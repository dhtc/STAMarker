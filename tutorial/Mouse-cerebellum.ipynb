{
 "cells": [
  {
   "cell_type": "code",
   "execution_count": null,
   "id": "ed9fba71-a9b6-4601-b555-eee57dc333ef",
   "metadata": {
    "pycharm": {
     "is_executing": true
    },
    "tags": []
   },
   "outputs": [],
   "source": [
    "import sys\n",
    "import scanpy as sc\n",
    "import numpy as np\n",
    "import pandas as pd\n",
    "import torch\n",
    "import copy\n",
    "import matplotlib.pyplot as plt\n",
    "import warnings\n",
    "sys.path.append(\"../\")\n",
    "from upsetplot import plot, from_contents\n",
    "from scanpy.plotting.palettes import vega_20_scanpy\n",
    "from stamarker.dataset import SpatialDataModule\n",
    "from stamarker.pipeline import STAMarker, make_spatial_data\n",
    "from stamarker.utils import parse_args, select_svgs\n",
    "warnings.filterwarnings(\"ignore\")"
   ]
  },
  {
   "cell_type": "markdown",
   "id": "12866f6e-9533-4c4c-ba84-a24326ae9a4b",
   "metadata": {},
   "source": [
    "# Load data"
   ]
  },
  {
   "cell_type": "code",
   "execution_count": null,
   "id": "d9f8d38b-236a-4d7b-937a-cc1552733460",
   "metadata": {
    "tags": []
   },
   "outputs": [],
   "source": [
    "ann_data = sc.read_h5ad(\"../dataset/rodriques_slideseq.h5ad\")\n",
    "print(ann_data)\n",
    "data_module = make_spatial_data(ann_data)\n",
    "data_module.prepare_data(rad_cutoff=40, n_top_genes=3000, min_counts=20)"
   ]
  },
  {
   "cell_type": "markdown",
   "id": "c2d0e5dd-396d-48fc-a619-1dd201c9c2fe",
   "metadata": {},
   "source": [
    "# STAMarker training procedure"
   ]
  },
  {
   "cell_type": "code",
   "execution_count": null,
   "id": "115cb8ce-f2f5-4632-9bad-1e26b37c0c5a",
   "metadata": {
    "tags": []
   },
   "outputs": [],
   "source": [
    "config = dict()\n",
    "config.update(parse_args(\"_params/model.yaml\"))\n",
    "config.update(parse_args(\"_params/trainer.yaml\"))\n",
    "if not torch.cuda.is_available():\n",
    "        config[\"stagate_trainer\"][\"gpus\"] = None\n",
    "        config[\"classifier_trainer\"][\"gpus\"] = None"
   ]
  },
  {
   "cell_type": "code",
   "execution_count": null,
   "id": "6c971876-765d-4058-9e9d-ef457c9050c8",
   "metadata": {
    "tags": []
   },
   "outputs": [],
   "source": [
    "# initialize the `STAMarker` object\n",
    "stamarker = STAMarker(20, \"Mouse_cerebellum_output/\", config)"
   ]
  },
  {
   "cell_type": "code",
   "execution_count": null,
   "id": "713a3556-6f55-49fd-b221-10c1ff109c8d",
   "metadata": {
    "tags": []
   },
   "outputs": [],
   "source": [
    "# Train autoencoders\n",
    "stamarker.train_auto_encoders(data_module)"
   ]
  },
  {
   "cell_type": "markdown",
   "id": "5816a2cb-160d-494c-8bd6-f49c8ac3fe81",
   "metadata": {},
   "source": [
    "One the the train "
   ]
  },
  {
   "cell_type": "code",
   "execution_count": null,
   "id": "09b66b6f-abe3-479a-ba02-66bc09912755",
   "metadata": {
    "tags": []
   },
   "outputs": [],
   "source": [
    "stamarker.clustering(data_module, \"louvain\", 0.6)"
   ]
  },
  {
   "cell_type": "markdown",
   "id": "5aa44a97-aac4-4bc2-b2e2-eb0d2c6f0e15",
   "metadata": {},
   "source": [
    "Consensus cluster the labels into 5 classes"
   ]
  },
  {
   "cell_type": "code",
   "execution_count": null,
   "id": "997368fc-de69-4060-b532-3aea1ed5da05",
   "metadata": {},
   "outputs": [],
   "source": [
    "# Perform consensus clustering \n",
    "stamarker.consensus_clustering(5)"
   ]
  },
  {
   "cell_type": "code",
   "execution_count": null,
   "id": "1714c259-008c-4359-84bd-b8275583147b",
   "metadata": {},
   "outputs": [],
   "source": [
    "stamarker.train_classifiers(data_module, 5, consensus_labels_path=\"consensus_labels.npy\")"
   ]
  },
  {
   "cell_type": "code",
   "execution_count": null,
   "id": "5e574ccc-6934-48dd-a05b-517e6d77314c",
   "metadata": {},
   "outputs": [],
   "source": [
    "smap = stamarker.compute_smaps(data_module)"
   ]
  },
  {
   "cell_type": "markdown",
   "id": "4574d2d9-16c6-40d6-b8bb-541cc0e90318",
   "metadata": {},
   "source": [
    "# Visualize spatial domains"
   ]
  },
  {
   "cell_type": "code",
   "execution_count": null,
   "id": "15808ac5-c185-4b1e-a9e3-75a9eddd2d22",
   "metadata": {
    "tags": []
   },
   "outputs": [],
   "source": [
    "consensus_labels = np.load(stamarker.save_dir + \"/consensus_labels.npy\")\n",
    "ann_data.obs[\"Consensus clustering\"] = consensus_labels.astype(str)\n",
    "n_class = np.max(consensus_labels) + 1\n",
    "print(\"Num of spatial domains\", n_class)"
   ]
  },
  {
   "cell_type": "code",
   "execution_count": null,
   "id": "0ddbc10f-2806-4999-9060-9af051b34926",
   "metadata": {},
   "outputs": [],
   "source": [
    "a = 1.5\n",
    "fig, ax = plt.subplots(1, 1, figsize=(1.45 * a, 1.42 * a))\n",
    "sc.pl.embedding(ann_data, basis=\"spatial\", color = \"Consensus clustering\", show=False, ax=ax, s=6, \n",
    "                 palette=vega_20_scanpy, frameon=False)\n",
    "ax.set_title(\"\")\n",
    "ax.set_aspect(\"equal\")"
   ]
  },
  {
   "cell_type": "code",
   "execution_count": null,
   "id": "4930f7a3-fba8-4f4d-9955-23c3e70ae85d",
   "metadata": {},
   "outputs": [],
   "source": [
    "domain_svg_list = []\n",
    "for domain_ind in range(5):\n",
    "    domain_svg_list.append(select_svgs(np.log(1 + smap), domain_ind, consensus_labels, alpha=1.25))\n",
    "upset_domains_df = from_contents({ f\"Spatial domain {ind}\": l for ind, l in enumerate(domain_svg_list)})"
   ]
  },
  {
   "cell_type": "code",
   "execution_count": null,
   "id": "b0788c4d-1124-400f-a5cc-0f20ff499dc5",
   "metadata": {},
   "outputs": [],
   "source": [
    "fig, ax = plt.subplots(1, 1, figsize=(2.7, 2.5))\n",
    "df = pd.DataFrame(upset_domains_df.index.to_frame().apply(np.sum, axis=1))\n",
    "df.columns = [\"counts\"]\n",
    "df.index = upset_domains_df[\"id\"]\n",
    "df_counts = df.groupby(\"counts\")[\"counts\"].agg(\"count\")\n",
    "ax.bar(df_counts.index, df_counts.values)\n",
    "ax.set_xticks(df_counts.index)\n",
    "ax.set_xlabel(\"Number of spatial domains\")\n",
    "ax.set_ylabel(\"Number of genes\")\n",
    "plt.tight_layout()"
   ]
  },
  {
   "cell_type": "code",
   "execution_count": null,
   "id": "e3b9900a-8966-4c9d-92dc-51491ad6cb45",
   "metadata": {},
   "outputs": [],
   "source": [
    "morans_i_array = compute_morans_I(ann_data, data_module, version_dirs)\n",
    "stmarker_domains_df = get_svg_domains_df(ann_data, upset_domains_df, morans_i_array)\n",
    "stmarker_domains_df[\"Specific\"] = np.isin(stmarker_domains_df.index, upset_df_methods.loc[(True, False, False, False)])"
   ]
  },
  {
   "cell_type": "code",
   "execution_count": null,
   "id": "e7f459db-859b-4ab9-b3fe-b8fe5830d394",
   "metadata": {},
   "outputs": [],
   "source": []
  },
  {
   "cell_type": "code",
   "execution_count": null,
   "id": "7b8c2457-e490-4536-b24f-2dded4cd2ede",
   "metadata": {},
   "outputs": [],
   "source": [
    "tgenes = \"Syt11/Git2/Gria3/Unc13c/Myh10/Ptprz1/Timp2/Thy1/Nefl/Cplx1/Sncb/Nrsn1/Kcna1/Ucn/Gad1/App/Cck/Arpc2/Ntrk2/Clu/Dixdc1/Kif5c/Clasp2/Pcdh9/Map2/Calb1/Cplx2/Auts2/Grin1/Prnp/Rtn4/Map1b/Pclo/Kcnma1/Apbb1/Kcnc3/Npy/Kif5a\".split(\"/\")\n",
    "for g in tgenes:\n",
    "    print(g, df[df.index == g][[\"module\"]].values)"
   ]
  },
  {
   "cell_type": "code",
   "execution_count": null,
   "id": "6d9daeb3-eb0e-47fc-b49b-d4ad20608ac5",
   "metadata": {},
   "outputs": [],
   "source": [
    "go = go_methods[\"HotSpot\"]\n",
    "go[go.source.str.contains(\"GO:0150034\")]"
   ]
  },
  {
   "cell_type": "code",
   "execution_count": null,
   "id": "675abbc8-9bd2-4ed3-8669-05b563dcc20d",
   "metadata": {},
   "outputs": [],
   "source": [
    "plot_gene_names= ['Cbln1',\n",
    "                  \"Dab1\",\n",
    "                  \"Gria1\",\n",
    "                  \"Baiap2\",\n",
    "                  \"Nrsn1\",\n",
    "                  \"Ucn\"]\n",
    "for gene in plot_gene_names:\n",
    "    if stmarker_domains_df[stmarker_domains_df.index== gene].Specific.all():\n",
    "        s = \"Specific\"\n",
    "    else:\n",
    "        s = \"Nonsepcific\"\n",
    "    print(gene, \"M{}\".format(labels_smaps[gene_indices.index == gene][0]), s)"
   ]
  },
  {
   "cell_type": "code",
   "execution_count": null,
   "id": "dfcba8e2-ddf5-42dc-9106-2b2e978798b7",
   "metadata": {},
   "outputs": [],
   "source": [
    "domain_palette = {str(ind): vega_20_scanpy[ind] for ind in range(n_class)}\n",
    "plot_gene_indices = find_indices(ann_data, plot_gene_names)\n",
    "fig, axs = plt.subplots(3, len(plot_gene_names), figsize=(len(plot_gene_names) * 1.35, 4))\n",
    "for ind, gene_name in enumerate(plot_gene_names):\n",
    "    temp_palette = {str(ind): \"lightgrey\" for ind in range(n_class)}\n",
    "    indices_domain = np.where(stmarker_domains_df[stmarker_domains_df.index == gene_name].filter(regex=\"Spatial domain\"))[1]\n",
    "    ax = axs[2][ind]\n",
    "    for ind_domain in indices_domain:\n",
    "        temp_palette[str(ind_domain)] = domain_palette[str(ind_domain)]\n",
    "    sc.pl.embedding(ann_data, basis=\"spatial\", color=\"Consensus clustering\", ax=ax, frameon=False, s=5, legend_loc=None, \n",
    "                    show=False, palette=temp_palette)\n",
    "    ax.set_title(\"\")\n",
    "    ax.set_aspect(\"equal\")\n",
    "    ax = axs[1][ind]\n",
    "    ann_data.obs[\"saliency\"] = zsmap[:, plot_gene_indices[ind]]\n",
    "    sc.pl.embedding(ann_data, basis=\"spatial\", color=\"saliency\", ax=ax, frameon=False, s=5, legend_loc=None, \n",
    "                    show=False, color_map=\"magma\", vmin=\"p0.5\", vmax=\"p99.5\")\n",
    "    ax.set_title(\"\")\n",
    "    ax.set_aspect(\"equal\")\n",
    "    ax = axs[0][ind]\n",
    "    sc.pl.embedding(ann_data, basis=\"spatial\", color=gene_name, ax=ax, frameon=False, s=5, legend_loc=None, \n",
    "                    show=False, color_map=\"viridis\", vmin=0, vmax=\"p99.5\")\n",
    "    ax.set_title(\"\")\n",
    "    ax.set_aspect(\"equal\")\n",
    "remove_cbar(fig.axes)\n",
    "plt.subplots_adjust(wspace=0, hspace=0)\n",
    "plt.savefig(os.path.join(fig_dir, \"maps_genes.png\"), dpi=300)"
   ]
  },
  {
   "cell_type": "code",
   "execution_count": null,
   "id": "88b590cd-943a-44a1-bf28-47774419db5c",
   "metadata": {},
   "outputs": [],
   "source": [
    "overlap_df = []\n",
    "for key in genes_all:\n",
    "    genes_list = genes_all[key]\n",
    "    genes_list = set([gene.upper() for gene in genes_list])\n",
    "    overlap_df.append([key, len(genes_list.intersection(valid_gene_list))])\n",
    "overlap_df = pd.DataFrame(overlap_df)\n",
    "overlap_df.columns = [\"Method\", \"Overlap\"]\n",
    "overlap_df"
   ]
  },
  {
   "cell_type": "code",
   "execution_count": null,
   "id": "78aadafb-f973-48a9-8c15-0274f3fb06cf",
   "metadata": {},
   "outputs": [],
   "source": [
    "M = 3000\n",
    "n = 261\n",
    "N = len(genes_all[\"STAMarker\"])\n",
    "for method in overlap_df[\"Method\"]:\n",
    "    k = int(overlap_df[overlap_df.Method == method].Overlap)\n",
    "    print(method, hypergeom.sf(k, M, n, N))\n",
    "method_colors = {\"STAMarker\": \"#C13E3F\", \"HotSpot\": \"#3B9144\", \"SPARK-X\": \"#E1822C\", \"SpatialDE\": \"#3375A2\"}\n",
    "fig, ax = plt.subplots(1, 1, figsize=(1.8, 2.25))\n",
    "sns.barplot(data=overlap_df, x=\"Method\", y=\"Overlap\",palette=method_colors, ax=ax)\n",
    "ax.set_xlabel(\"\")\n",
    "ax.set_xticklabels(ax.get_xticklabels(),rotation = 60)\n",
    "# ax.set_ylabel(\"Overlap with reference\")\n",
    "ax.set_ylim([0, 120])\n",
    "plt.tight_layout()\n",
    "plt.savefig(\"figures/app5/barplot_overlap_allen_brain.png\", dpi=300)"
   ]
  }
 ],
 "metadata": {
  "kernelspec": {
   "display_name": "tf",
   "language": "python",
   "name": "tf"
  },
  "language_info": {
   "codemirror_mode": {
    "name": "ipython",
    "version": 3
   },
   "file_extension": ".py",
   "mimetype": "text/x-python",
   "name": "python",
   "nbconvert_exporter": "python",
   "pygments_lexer": "ipython3",
   "version": "3.9.0"
  }
 },
 "nbformat": 4,
 "nbformat_minor": 5
}
