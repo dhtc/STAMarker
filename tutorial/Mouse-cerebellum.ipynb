{
 "cells": [
  {
   "cell_type": "code",
   "execution_count": null,
   "id": "ed9fba71-a9b6-4601-b555-eee57dc333ef",
   "metadata": {
    "pycharm": {
     "is_executing": true
    },
    "tags": []
   },
   "outputs": [],
   "source": [
    "import sys\n",
    "import scanpy as sc\n",
    "import numpy as np\n",
    "import pandas as pd\n",
    "import torch\n",
    "import copy\n",
    "import matplotlib.pyplot as plt\n",
    "import warnings\n",
    "sys.path.append(\"../\")\n",
    "from upsetplot import plot, from_contents\n",
    "from scanpy.plotting.palettes import vega_20_scanpy\n",
    "from stamarker.dataset import SpatialDataModule\n",
    "from stamarker.pipeline import STAMarker, make_spatial_data\n",
    "from stamarker.utils import parse_args, select_svgs\n",
    "warnings.filterwarnings(\"ignore\")"
   ]
  },
  {
   "cell_type": "markdown",
   "id": "12866f6e-9533-4c4c-ba84-a24326ae9a4b",
   "metadata": {},
   "source": [
    "# Load data"
   ]
  },
  {
   "cell_type": "code",
   "execution_count": null,
   "id": "d9f8d38b-236a-4d7b-937a-cc1552733460",
   "metadata": {
    "tags": []
   },
   "outputs": [],
   "source": [
    "ann_data = sc.read_h5ad(\"../dataset/rodriques_slideseq.h5ad\")\n",
    "print(ann_data)\n",
    "data_module = make_spatial_data(ann_data)\n",
    "data_module.prepare_data(rad_cutoff=40, n_top_genes=3000, min_counts=20)"
   ]
  },
  {
   "cell_type": "markdown",
   "id": "c2d0e5dd-396d-48fc-a619-1dd201c9c2fe",
   "metadata": {},
   "source": [
    "# STAMarker training procedure"
   ]
  },
  {
   "cell_type": "code",
   "execution_count": null,
   "id": "115cb8ce-f2f5-4632-9bad-1e26b37c0c5a",
   "metadata": {
    "tags": []
   },
   "outputs": [],
   "source": [
    "config = dict()\n",
    "config.update(parse_args(\"_params/model.yaml\"))\n",
    "config.update(parse_args(\"_params/trainer.yaml\"))\n",
    "if not torch.cuda.is_available():\n",
    "        config[\"stagate_trainer\"][\"gpus\"] = None\n",
    "        config[\"classifier_trainer\"][\"gpus\"] = None"
   ]
  },
  {
   "cell_type": "code",
   "execution_count": null,
   "id": "6c971876-765d-4058-9e9d-ef457c9050c8",
   "metadata": {
    "tags": []
   },
   "outputs": [],
   "source": [
    "# initialize the `STAMarker` object\n",
    "stamarker = STAMarker(20, \"Mouse_cerebellum_output/\", config)"
   ]
  },
  {
   "cell_type": "code",
   "execution_count": null,
   "id": "713a3556-6f55-49fd-b221-10c1ff109c8d",
   "metadata": {
    "tags": []
   },
   "outputs": [],
   "source": [
    "# Train autoencoders\n",
    "stamarker.train_auto_encoders(data_module)"
   ]
  },
  {
   "cell_type": "markdown",
   "id": "5816a2cb-160d-494c-8bd6-f49c8ac3fe81",
   "metadata": {},
   "source": [
    "One the the train "
   ]
  },
  {
   "cell_type": "code",
   "execution_count": null,
   "id": "09b66b6f-abe3-479a-ba02-66bc09912755",
   "metadata": {
    "tags": []
   },
   "outputs": [],
   "source": [
    "stamarker.clustering(data_module, \"louvain\", 0.6)"
   ]
  },
  {
   "cell_type": "markdown",
   "id": "5aa44a97-aac4-4bc2-b2e2-eb0d2c6f0e15",
   "metadata": {},
   "source": [
    "Consensus cluster the labels into 5 classes"
   ]
  },
  {
   "cell_type": "code",
   "execution_count": null,
   "id": "997368fc-de69-4060-b532-3aea1ed5da05",
   "metadata": {},
   "outputs": [],
   "source": [
    "# Perform consensus clustering \n",
    "stamarker.consensus_clustering(5)"
   ]
  },
  {
   "cell_type": "code",
   "execution_count": null,
   "id": "1714c259-008c-4359-84bd-b8275583147b",
   "metadata": {},
   "outputs": [],
   "source": [
    "stamarker.train_classifiers(data_module, 5, consensus_labels_path=\"consensus_labels.npy\")"
   ]
  },
  {
   "cell_type": "code",
   "execution_count": null,
   "id": "5e574ccc-6934-48dd-a05b-517e6d77314c",
   "metadata": {},
   "outputs": [],
   "source": [
    "smap = stamarker.compute_smaps(data_module)"
   ]
  },
  {
   "cell_type": "markdown",
   "id": "4574d2d9-16c6-40d6-b8bb-541cc0e90318",
   "metadata": {},
   "source": [
    "# Visualize spatial domains"
   ]
  },
  {
   "cell_type": "code",
   "execution_count": null,
   "id": "15808ac5-c185-4b1e-a9e3-75a9eddd2d22",
   "metadata": {
    "tags": []
   },
   "outputs": [],
   "source": [
    "consensus_labels = np.load(stamarker.save_dir + \"/consensus_labels.npy\")\n",
    "ann_data.obs[\"Consensus clustering\"] = consensus_labels.astype(str)\n",
    "n_class = np.max(consensus_labels) + 1\n",
    "print(\"Num of spatial domains\", n_class)"
   ]
  },
  {
   "cell_type": "code",
   "execution_count": null,
   "id": "0ddbc10f-2806-4999-9060-9af051b34926",
   "metadata": {},
   "outputs": [],
   "source": [
    "a = 1.5\n",
    "fig, ax = plt.subplots(1, 1, figsize=(1.45 * a, 1.42 * a))\n",
    "sc.pl.embedding(ann_data, basis=\"spatial\", color = \"Consensus clustering\", show=False, ax=ax, s=6, \n",
    "                 palette=vega_20_scanpy, frameon=False)\n",
    "ax.set_title(\"\")\n",
    "ax.set_aspect(\"equal\")"
   ]
  },
  {
   "cell_type": "code",
   "execution_count": null,
   "id": "4930f7a3-fba8-4f4d-9955-23c3e70ae85d",
   "metadata": {},
   "outputs": [],
   "source": [
    "domain_svg_list = []\n",
    "for domain_ind in range(5):\n",
    "    domain_svg_list.append(select_svgs(np.log(1 + smap), domain_ind, consensus_labels, alpha=1.25))\n",
    "upset_domains_df = from_contents({ f\"Spatial domain {ind}\": l for ind, l in enumerate(domain_svg_list)})"
   ]
  },
  {
   "cell_type": "code",
   "execution_count": null,
   "id": "b0788c4d-1124-400f-a5cc-0f20ff499dc5",
   "metadata": {},
   "outputs": [],
   "source": [
    "fig, ax = plt.subplots(1, 1, figsize=(2.7, 2.5))\n",
    "df = pd.DataFrame(upset_domains_df.index.to_frame().apply(np.sum, axis=1))\n",
    "df.columns = [\"counts\"]\n",
    "df.index = upset_domains_df[\"id\"]\n",
    "df_counts = df.groupby(\"counts\")[\"counts\"].agg(\"count\")\n",
    "ax.bar(df_counts.index, df_counts.values)\n",
    "ax.set_xticks(df_counts.index)\n",
    "ax.set_xlabel(\"Number of spatial domains\")\n",
    "ax.set_ylabel(\"Number of genes\")\n",
    "plt.tight_layout()"
   ]
  }
 ],
 "metadata": {
  "kernelspec": {
   "display_name": "tf",
   "language": "python",
   "name": "tf"
  },
  "language_info": {
   "codemirror_mode": {
    "name": "ipython",
    "version": 3
   },
   "file_extension": ".py",
   "mimetype": "text/x-python",
   "name": "python",
   "nbconvert_exporter": "python",
   "pygments_lexer": "ipython3",
   "version": "3.9.0"
  }
 },
 "nbformat": 4,
 "nbformat_minor": 5
}
